{
 "cells": [
  {
   "cell_type": "code",
   "execution_count": 4,
   "id": "139f5313",
   "metadata": {},
   "outputs": [
    {
     "name": "stdout",
     "output_type": "stream",
     "text": [
      "0      20.62058\n",
      "1      26.44657\n",
      "2      24.59620\n",
      "3      27.63048\n",
      "4      22.25083\n",
      "         ...   \n",
      "158    26.78926\n",
      "159    26.57750\n",
      "160    20.91630\n",
      "161    20.68321\n",
      "162    22.02660\n",
      "Name: BMI, Length: 163, dtype: float64\n",
      "--------\n",
      "          BMI\n",
      "0    20.62058\n",
      "1    26.44657\n",
      "2    24.59620\n",
      "3    27.63048\n",
      "4    22.25083\n",
      "..        ...\n",
      "158  26.78926\n",
      "159  26.57750\n",
      "160  20.91630\n",
      "161  20.68321\n",
      "162  22.02660\n",
      "\n",
      "[163 rows x 1 columns]\n",
      "[[60.31564716]]\n"
     ]
    },
    {
     "name": "stderr",
     "output_type": "stream",
     "text": [
      "/Users/nayanex/opt/anaconda3/envs/linear-regression-env/lib/python3.9/site-packages/sklearn/base.py:445: UserWarning: X does not have valid feature names, but LinearRegression was fitted with feature names\n",
      "  warnings.warn(\n"
     ]
    }
   ],
   "source": [
    "# TODO: Add import statements\n",
    "import pandas as pd\n",
    "from sklearn.linear_model import LinearRegression\n",
    "\n",
    "# Assign the dataframe to this variable.\n",
    "# TODO: Load the data\n",
    "bmi_life_data = pd.read_csv(\"data/bmi_and_life_expectancy.csv\")\n",
    "\n",
    "# Make and fit the linear regression model\n",
    "#TODO: Fit the model and Assign it to bmi_life_model\n",
    "bmi_life_model = LinearRegression()\n",
    "bmi_life_model.fit(bmi_life_data[['BMI']], bmi_life_data[['Life expectancy']])\n",
    "\n",
    "# Mak a prediction using the model\n",
    "# TODO: Predict life expectancy for a BMI value of 21.07931\n",
    "laos_life_exp = bmi_life_model.predict([[21.07931]])\n",
    "print(laos_life_exp)\n"
   ]
  },
  {
   "cell_type": "code",
   "execution_count": null,
   "id": "f1ee042c",
   "metadata": {},
   "outputs": [],
   "source": []
  }
 ],
 "metadata": {
  "interpreter": {
   "hash": "aee8b7b246df8f9039afb4144a1f6fd8d2ca17a180786b69acc140d282b71a49"
  },
  "kernelspec": {
   "display_name": "Python 3 (ipykernel)",
   "language": "python",
   "name": "python3"
  },
  "language_info": {
   "codemirror_mode": {
    "name": "ipython",
    "version": 3
   },
   "file_extension": ".py",
   "mimetype": "text/x-python",
   "name": "python",
   "nbconvert_exporter": "python",
   "pygments_lexer": "ipython3",
   "version": "3.9.7"
  }
 },
 "nbformat": 4,
 "nbformat_minor": 5
}
